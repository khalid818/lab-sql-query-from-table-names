{
 "cells": [
  {
   "cell_type": "markdown",
   "id": "00a57394-53dd-47cd-a5e7-6e7122bbb0f6",
   "metadata": {},
   "source": [
    "# SQL query from table names"
   ]
  },
  {
   "cell_type": "markdown",
   "id": "86bc2813-763c-49f2-9f5d-e1f87a20556f",
   "metadata": {
    "id": "86bc2813-763c-49f2-9f5d-e1f87a20556f"
   },
   "source": [
    "In This notebook we are going to test if using just the name of the table, and a shord definition of its contect we can use a model like GTP3.5-Turbo to select which tables are necessary to create a SQL Order to answer the user petition."
   ]
  },
  {
   "cell_type": "code",
   "execution_count": 1,
   "id": "7fbbdf5b-4d7f-4496-8f40-9d15ea46d023",
   "metadata": {
    "id": "7fbbdf5b-4d7f-4496-8f40-9d15ea46d023"
   },
   "outputs": [],
   "source": [
    "from openai import OpenAI\n",
    "import os\n",
    "from dotenv import load_dotenv, find_dotenv\n",
    "_ = load_dotenv(find_dotenv())\n",
    "\n",
    "OPENAI_API_KEY  = os.getenv('OPENAI_API_KEY')"
   ]
  },
  {
   "cell_type": "code",
   "execution_count": 2,
   "id": "e480bbfb-9a80-4ea6-b792-067e63ae3148",
   "metadata": {
    "id": "e480bbfb-9a80-4ea6-b792-067e63ae3148"
   },
   "outputs": [],
   "source": [
    "#Functio to call the model.\n",
    "def return_OAI(user_message):\n",
    "    client = OpenAI(\n",
    "    # This is the default and can be omitted\n",
    "    api_key=OPENAI_API_KEY,\n",
    ")\n",
    "    context = []\n",
    "    context.append({'role':'system', \"content\": user_message})\n",
    "\n",
    "    response = client.chat.completions.create(\n",
    "            model=\"gpt-3.5-turbo\",\n",
    "            messages=context,\n",
    "            temperature=0,\n",
    "        )\n",
    "\n",
    "    return (response.choices[0].message.content)"
   ]
  },
  {
   "cell_type": "code",
   "execution_count": 3,
   "id": "6d5d2bdc-d822-4ed8-815e-b3f223730f15",
   "metadata": {
    "id": "6d5d2bdc-d822-4ed8-815e-b3f223730f15",
    "outputId": "61068bf0-41e3-40d9-b453-b76da5b0f086"
   },
   "outputs": [
    {
     "name": "stdout",
     "output_type": "stream",
     "text": [
      "       table                                         definition\n",
      "0  employees  Employee information, name, ID, department, an...\n",
      "1     salary  Salary details for each year, including bonuse...\n",
      "2    studies  Educational studies, name of the institution, ...\n"
     ]
    }
   ],
   "source": [
    "#Definition of the tables.\n",
    "import pandas as pd\n",
    "\n",
    "# Table and definitions sample\n",
    "data = {'table': ['employees', 'salary', 'studies'],\n",
    "        'definition': ['Employee information, name, ID, department, and hire date',\n",
    "        'Salary details for each year, including bonuses and deductions',\n",
    "        'Educational studies, name of the institution, degree, and graduation year']\n",
    "}\n",
    "df = pd.DataFrame(data)\n",
    "print(df)"
   ]
  },
  {
   "cell_type": "code",
   "execution_count": 4,
   "id": "009e681c-d95d-4c9c-b044-5bfd76e3ad95",
   "metadata": {
    "id": "009e681c-d95d-4c9c-b044-5bfd76e3ad95"
   },
   "outputs": [],
   "source": [
    "text_tables = '\\n'.join([f\"{row['table']}: {row['definition']}\" for index, row in df.iterrows()])"
   ]
  },
  {
   "cell_type": "code",
   "execution_count": 5,
   "id": "fe03ac25-8d02-4cd1-99a1-be4220c6fd2d",
   "metadata": {
    "id": "fe03ac25-8d02-4cd1-99a1-be4220c6fd2d",
    "outputId": "c1f3aab1-5f26-48fe-fcf9-3780120f5aad"
   },
   "outputs": [
    {
     "name": "stdout",
     "output_type": "stream",
     "text": [
      "employees: Employee information, name, ID, department, and hire date\n",
      "salary: Salary details for each year, including bonuses and deductions\n",
      "studies: Educational studies, name of the institution, degree, and graduation year\n"
     ]
    }
   ],
   "source": [
    "print(text_tables)"
   ]
  },
  {
   "cell_type": "code",
   "execution_count": 6,
   "id": "c7e275ae-f20d-4134-b9b6-d8677dfb544c",
   "metadata": {
    "id": "c7e275ae-f20d-4134-b9b6-d8677dfb544c"
   },
   "outputs": [],
   "source": [
    "prompt_question_tables = \"\"\"\n",
    "Given the following tables and their content definitions,\n",
    "###Tables\n",
    "{tables}\n",
    "\n",
    "Tell me which tables would be necessary to query with SQL to address the user's question below.\n",
    "Return the table names in a json format.\n",
    "###User Questyion:\n",
    "{question}\n",
    "\"\"\"\n"
   ]
  },
  {
   "cell_type": "code",
   "execution_count": 7,
   "id": "b1cb5957-2df2-4e5e-9e6a-ace955c9817e",
   "metadata": {
    "id": "b1cb5957-2df2-4e5e-9e6a-ace955c9817e"
   },
   "outputs": [],
   "source": [
    "#Creating the prompt, with the user questions and the tables definitions.\n",
    "pqt1 = prompt_question_tables.format(\n",
    "    tables=text_tables,\n",
    "    question=\"Which employees with a computer science degree earned more than $100,000 in 2023?\"\n",
    "    )"
   ]
  },
  {
   "cell_type": "code",
   "execution_count": 8,
   "id": "10d30f2b-6c23-4fd6-8038-840fba784cce",
   "metadata": {
    "id": "10d30f2b-6c23-4fd6-8038-840fba784cce",
    "outputId": "9924022c-7b2b-4ec8-e2c2-75bc1c745151",
    "scrolled": true
   },
   "outputs": [
    {
     "name": "stdout",
     "output_type": "stream",
     "text": [
      "{\n",
      "    \"tables\": [\"employees\", \"salary\", \"studies\"]\n",
      "}\n"
     ]
    }
   ],
   "source": [
    "print(return_OAI(pqt1))"
   ]
  },
  {
   "cell_type": "code",
   "execution_count": 9,
   "id": "57e07083-be8f-4cd0-95bd-c4b909422c6b",
   "metadata": {
    "id": "57e07083-be8f-4cd0-95bd-c4b909422c6b"
   },
   "outputs": [],
   "source": [
    "pqt3 = prompt_question_tables.format(\n",
    "    tables=text_tables,\n",
    "    question=\"What is the average salary of employees hired after 2020 grouped by department?\"\n",
    "    )"
   ]
  },
  {
   "cell_type": "code",
   "execution_count": 10,
   "id": "a0eeb79e-caf1-4f48-9897-168d95d2ae37",
   "metadata": {
    "id": "a0eeb79e-caf1-4f48-9897-168d95d2ae37",
    "outputId": "81d77115-9cad-4284-a228-5368bb9aa6fb"
   },
   "outputs": [
    {
     "name": "stdout",
     "output_type": "stream",
     "text": [
      "{\n",
      "    \"tables\": [\"employees\", \"salary\"]\n",
      "}\n"
     ]
    }
   ],
   "source": [
    "print(return_OAI(pqt3))"
   ]
  },
  {
   "cell_type": "markdown",
   "id": "321bb9a2-4937-4e9a-a31b-7049cb8f5aa3",
   "metadata": {
    "id": "321bb9a2-4937-4e9a-a31b-7049cb8f5aa3"
   },
   "source": [
    "# Exercise\n",
    " - Complete the prompts similar to what we did in class. \n",
    "     - Try a few versions if you have time\n",
    "     - Be creative\n",
    " - Write a one page report summarizing your findings.\n",
    "     - Were there variations that didn't work well? i.e., where GPT either hallucinated or wrong\n",
    " - What did you learn?"
   ]
  },
  {
   "cell_type": "code",
   "execution_count": 11,
   "id": "c83a2e30",
   "metadata": {},
   "outputs": [],
   "source": [
    "# Version 1: Analysis of Table Relationships and Data Linkages\n",
    "prompt_question_tables2 = \"\"\"\n",
    "You are an expert database analyst assisting a user with an employee management database. Below are the tables, their detailed definitions, and their relationships. Use this information to provide a clear, actionable response to the user's question.\n",
    "\n",
    "###Database Overview\n",
    "This database tracks employee details, compensation history, and educational qualifications to support HR analytics and career development projects.\n",
    "\n",
    "###Tables\n",
    "{tables}\n",
    "\n",
    "###Relationships Between Tables\n",
    "- employees to salary: one-to-many (Each employee has multiple salary records over time, linked by employee ID as the primary key in 'employees' and foreign key in 'salary').\n",
    "- employees to studies: one-to-many (Each employee can have multiple educational qualifications, linked by employee ID as the primary key in 'employees' and foreign key in 'studies').\n",
    "- salary to studies: no direct relation (These tables connect indirectly through 'employees' via employee ID, but have no direct key linking them).\n",
    "\n",
    "###User Question\n",
    "{question}\n",
    "\n",
    "###Instructions\n",
    "Analyze the user's question and provide a detailed response in JSON format with the following structure:\n",
    "- \"tables\": list of all table names in the database\n",
    "- \"relationships\": list of objects, each with:\n",
    "  - \"table1\": first table name\n",
    "  - \"table2\": second table name\n",
    "  - \"relation_type\": type of relationship (e.g., one-to-many, no direct relation)\n",
    "  - \"description\": explanation of the relationship and how it’s implemented (e.g., key connections)\n",
    "- \"answer\": a concise explanation addressing the user’s question, leveraging the table relationships\n",
    "\n",
    "Focus on clarity, practical examples, and relevance to the user’s goal. Avoid assumptions beyond the provided schema unless explicitly needed to illustrate a point.\n",
    "\"\"\""
   ]
  },
  {
   "cell_type": "code",
   "execution_count": null,
   "id": "873dea7a",
   "metadata": {},
   "outputs": [],
   "source": [
    "pqt4 = prompt_question_tables2.format(\n",
    "    tables=text_tables,\n",
    "    question=\"How are the tables linked together, so I can create a career growth tracker showing salary trends and education for each employee?\"\n",
    ")"
   ]
  },
  {
   "cell_type": "code",
   "execution_count": 13,
   "id": "755456a4",
   "metadata": {},
   "outputs": [
    {
     "name": "stdout",
     "output_type": "stream",
     "text": [
      "```json\n",
      "{\n",
      "    \"tables\": [\"employees\", \"salary\", \"studies\"],\n",
      "    \"relationships\": [\n",
      "        {\n",
      "            \"table1\": \"employees\",\n",
      "            \"table2\": \"salary\",\n",
      "            \"relation_type\": \"one-to-many\",\n",
      "            \"description\": \"Each employee in the 'employees' table can have multiple salary records in the 'salary' table. This relationship is established through the employee ID as the primary key in 'employees' and as a foreign key in 'salary'.\"\n",
      "        },\n",
      "        {\n",
      "            \"table1\": \"employees\",\n",
      "            \"table2\": \"studies\",\n",
      "            \"relation_type\": \"one-to-many\",\n",
      "            \"description\": \"Each employee in the 'employees' table can have multiple educational qualifications in the 'studies' table. This relationship is linked through the employee ID as the primary key in 'employees' and as a foreign key in 'studies'.\"\n",
      "        },\n",
      "        {\n",
      "            \"table1\": \"salary\",\n",
      "            \"table2\": \"studies\",\n",
      "            \"relation_type\": \"no direct relation\",\n",
      "            \"description\": \"There is no direct relationship between the 'salary' and 'studies' tables. However, both tables indirectly connect to the 'employees' table through the employee ID, allowing for analysis of salary trends and educational qualifications for each employee.\"\n",
      "        }\n",
      "    ],\n",
      "    \"answer\": \"To create a career growth tracker showing salary trends and education for each employee, you can leverage the one-to-many relationships between the 'employees' table and the 'salary' table, as well as between the 'employees' table and the 'studies' table. By querying these tables based on the employee ID, you can track changes in salary over time and educational qualifications acquired by each employee.\"\n",
      "}\n",
      "```\n"
     ]
    }
   ],
   "source": [
    "print(return_OAI(pqt4))"
   ]
  },
  {
   "cell_type": "code",
   "execution_count": 14,
   "id": "8c86fd78",
   "metadata": {},
   "outputs": [],
   "source": [
    "# Version 2: Potential Use Cases and Functional Capabilities of the Database\n",
    "prompt_question_tables3 = \"\"\"\n",
    "You are a seasoned SQL consulting expert assisting a user with their employee management database. Below are the tables, their detailed definitions, and their relationships. Use this information to provide an impressive, actionable response to the user's question about what tasks their database can support.\n",
    "\n",
    "###Database Overview\n",
    "This database tracks employee details, compensation history, and educational qualifications to empower HR analytics, workforce planning, and career development initiatives.\n",
    "\n",
    "###Tables\n",
    "{tables}\n",
    "\n",
    "###Relationships Between Tables\n",
    "- employees to salary: one-to-many (Each employee has multiple salary records over time, linked by employee ID as the primary key in 'employees' and foreign key in 'salary').\n",
    "- employees to studies: one-to-many (Each employee can have multiple educational qualifications, linked by employee ID as the primary key in 'employees' and foreign key in 'studies').\n",
    "- salary to studies: no direct relation (These tables connect indirectly through 'employees' via employee ID, but have no direct key linking them).\n",
    "\n",
    "###User Question\n",
    "What tasks can my database help me accomplish?\n",
    "\n",
    "###Instructions\n",
    "Analyze the database schema and relationships, then provide a detailed response in JSON format with the following structure:\n",
    "- \"tables\": list of all table names in the database\n",
    "- \"capabilities\": list of objects, each with:\n",
    "  - \"task\": a specific task phrased as \"Track [X] and identify [Y]\" (e.g., \"Track salary trends and identify top earners\")\n",
    "  - \"description\": a practical, impressive explanation of how the database enables this task, using SQL-relevant insights (e.g., joins, aggregations)\n",
    "Focus on delivering at least three creative, high-value use cases that highlight the database’s potential. Use confident, expert-level language to inspire the user as a top-tier consultant.\n",
    "\"\"\""
   ]
  },
  {
   "cell_type": "code",
   "execution_count": 15,
   "id": "973e74eb",
   "metadata": {},
   "outputs": [],
   "source": [
    "pqt5 = prompt_question_tables3.format(\n",
    "    tables=text_tables,\n",
    "    question=\"What tasks can my database help me accomplish?\"\n",
    ")"
   ]
  },
  {
   "cell_type": "code",
   "execution_count": 16,
   "id": "8d44c373",
   "metadata": {},
   "outputs": [
    {
     "name": "stdout",
     "output_type": "stream",
     "text": [
      "```json\n",
      "{\n",
      "    \"tables\": [\"employees\", \"salary\", \"studies\"],\n",
      "    \"capabilities\": [\n",
      "        {\n",
      "            \"task\": \"Track employee career progression and identify high-potential individuals\",\n",
      "            \"description\": \"By joining the 'employees' table with the 'salary' table on employee ID, you can track salary changes over time. Using aggregations like MAX(salary_amount) and MIN(salary_amount), you can identify employees with the highest salary growth rates, indicating high-potential individuals deserving of career development opportunities.\"\n",
      "        },\n",
      "        {\n",
      "            \"task\": \"Analyze workforce education levels and identify skill gaps\",\n",
      "            \"description\": \"By joining the 'employees' table with the 'studies' table on employee ID, you can analyze the educational qualifications of your workforce. Using COUNT(degree) GROUP BY degree, you can identify the most common degrees among employees and pinpoint areas where additional training or recruitment may be needed to fill skill gaps.\"\n",
      "        },\n",
      "        {\n",
      "            \"task\": \"Forecast labor costs and optimize compensation strategies\",\n",
      "            \"description\": \"By leveraging historical salary data from the 'salary' table, you can perform trend analysis using functions like AVG(salary_amount) and SUM(bonuses) grouped by year. This allows you to forecast future labor costs accurately and optimize compensation strategies by adjusting bonuses or salary structures based on past trends and budget constraints.\"\n",
      "        }\n",
      "    ]\n",
      "}\n",
      "```\n"
     ]
    }
   ],
   "source": [
    "print(return_OAI(pqt5))"
   ]
  },
  {
   "cell_type": "code",
   "execution_count": 17,
   "id": "1113ee38",
   "metadata": {},
   "outputs": [],
   "source": [
    "# Version 3: Types of SQL Queries Supported and Their Applications\n",
    "prompt_question_tables4 = \"\"\"\n",
    "You are an elite SQL consultant guiding a user through their employee management database. Below are the tables, their detailed definitions, and their relationships. Leverage this schema to deliver a standout response to the user's question about SQL query capabilities.\n",
    "\n",
    "###Database Overview\n",
    "This database captures employee profiles, salary histories, and educational backgrounds, designed to fuel advanced HR analytics and data-driven decisions.\n",
    "\n",
    "###Tables\n",
    "{tables}\n",
    "\n",
    "###Relationships Between Tables\n",
    "- employees to salary: one-to-many (Each employee has multiple salary records over time, linked by employee ID as the primary key in 'employees' and foreign key in 'salary').\n",
    "- employees to studies: one-to-many (Each employee can have multiple educational qualifications, linked by employee ID as the primary key in 'employees' and foreign key in 'studies').\n",
    "- salary to studies: no direct relation (These tables connect indirectly through 'employees' via employee ID, but have no direct key linking them).\n",
    "\n",
    "###User Question\n",
    "What types of SQL queries can my database support?\n",
    "\n",
    "###Instructions\n",
    "Examine the database structure and relationships, then provide a detailed response in JSON format with the following structure:\n",
    "- \"tables\": list of all table names in the database\n",
    "- \"query_types\": list of objects, each with:\n",
    "  - \"query_type\": a specific SQL query type (e.g., \"Aggregation queries\")\n",
    "  - \"description\": a compelling explanation of how the database supports this query type, including example use cases and SQL techniques\n",
    "Offer at least three distinct query types, showcasing the database’s versatility. Use persuasive, expert-level language to demonstrate your SQL mastery and excite the user about their data’s potential.\n",
    "\"\"\""
   ]
  },
  {
   "cell_type": "code",
   "execution_count": 18,
   "id": "e2b73afa",
   "metadata": {},
   "outputs": [],
   "source": [
    "pqt6 = prompt_question_tables4.format(\n",
    "    tables=text_tables,\n",
    "    question=\"What types of SQL queries can my database support?\"\n",
    ")"
   ]
  },
  {
   "cell_type": "code",
   "execution_count": 19,
   "id": "ddc079ed",
   "metadata": {},
   "outputs": [
    {
     "name": "stdout",
     "output_type": "stream",
     "text": [
      "```json\n",
      "{\n",
      "    \"tables\": [\"employees\", \"salary\", \"studies\"],\n",
      "    \"query_types\": [\n",
      "        {\n",
      "            \"query_type\": \"Aggregation queries\",\n",
      "            \"description\": \"Your database fully supports aggregation queries, allowing you to analyze and summarize data across tables. For example, you can calculate the average salary of all employees, find the highest bonus given in a year, or count the number of employees with a specific degree. By using SQL functions like AVG(), MAX(), COUNT(), and GROUP BY, you can gain valuable insights into salary trends, educational distributions, and departmental statistics.\"\n",
      "        },\n",
      "        {\n",
      "            \"query_type\": \"Join queries\",\n",
      "            \"description\": \"With the relational structure in your database, join queries are a powerful tool to combine data from multiple tables. You can retrieve comprehensive employee profiles including salary details and educational backgrounds in a single query. For instance, you can join 'employees' with 'salary' to see how salary changes over time for each employee, or join 'employees' with 'studies' to understand the educational qualifications of your workforce. Utilize INNER JOIN, LEFT JOIN, or other join types to merge data efficiently.\"\n",
      "        },\n",
      "        {\n",
      "            \"query_type\": \"Subqueries\",\n",
      "            \"description\": \"Subqueries in SQL can enhance the depth of your analysis by nesting queries within queries. Your database can leverage subqueries to find employees who have the highest salary in the company, identify employees with a specific degree and department, or calculate the average salary of employees with a certain educational background. By embedding SELECT statements within WHERE or HAVING clauses, you can create intricate filters and comparisons to extract precise information from your data.\"\n",
      "        }\n",
      "    ]\n",
      "}\n",
      "```\n"
     ]
    }
   ],
   "source": [
    "print(return_OAI(pqt6))"
   ]
  }
 ],
 "metadata": {
  "colab": {
   "include_colab_link": true,
   "provenance": []
  },
  "kernelspec": {
   "display_name": "Python 3",
   "language": "python",
   "name": "python3"
  },
  "language_info": {
   "codemirror_mode": {
    "name": "ipython",
    "version": 3
   },
   "file_extension": ".py",
   "mimetype": "text/x-python",
   "name": "python",
   "nbconvert_exporter": "python",
   "pygments_lexer": "ipython3",
   "version": "3.13.2"
  }
 },
 "nbformat": 4,
 "nbformat_minor": 5
}
